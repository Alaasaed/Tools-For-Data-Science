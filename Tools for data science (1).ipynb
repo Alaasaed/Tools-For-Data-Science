{
  "cells": [
    {
      "attachments": {},
      "cell_type": "markdown",
      "metadata": {},
      "source": [
        "\n",
        "\n",
        "\n",
        "\n",
        "\n",
        "<h2><strong>$$Tools For Data Science$$</strong><h2> \n",
        "<h5>Exercise 2 -  Create a markdown cell with the title of the notebook</h5> \n",
        "                                        \n"
      ]
    },
    {
      "attachments": {},
      "cell_type": "markdown",
      "metadata": {},
      "source": [
        "<h5>Exercise 3 - Create a markdown cell for an introduction.</h5>\n",
        "    This simple Jupyterlite notebook for Peer-graded_Assignment_Submitting_My_Work atcourse of tools of data scientist via IBM coursera         courses , to complete this assignment. I needed to include a combination of markdown and code cells."
      ]
    },
    {
      "attachments": {},
      "cell_type": "markdown",
      "metadata": {},
      "source": [
        "<h5>Exercise 4 - Create a markdown cell to list data science languages. </h5>\n",
        "\n",
        "IN data sciece there are many languages are used from different organiztions ,The popular languages are:\n",
        "\n",
        "1. Python\n",
        "2. R \n",
        "3. SQL\n",
        "4. Scala \n",
        "5. Java\n",
        "6. C++\n",
        "7. Julia\n",
        "8. JavaScript\n",
        "9. PHP\n",
        "10. Go \n",
        "11. Ruby\n",
        "12. Visual Basic\n",
        "\n",
        "all have their own unique use cases as well ,You should select a language to learn depending on your needs, the problems you are trying to solve, and whom you are solving them for."
      ]
    },
    {
      "attachments": {},
      "cell_type": "markdown",
      "metadata": {},
      "source": [
        "<h5>Exercise 5 - Create a markdown cell to list data science libraries.</h5>\n",
        "there are many libraries are used in unordered list ,you can use : <br>\n",
        "1. Python's scientific computing libraries :<br>\n",
        "<ol><li>Pandas</li><li>NumPy</li><li>SciPy</li><li>Matplotlib</li><li>seaborn</li></ol>.<br> \n",
        "2. Python's artificial intelligence libraries:<br>\n",
        "<ol><li>TensorFlow</li><li>PyTorch</li><li>Keras</li><li>Scikit-learn</li></ol><br>\n",
        "3. Python's Natural Language Processing (NLP) using the Natural Language Toolkit (NLTK).<br>\n",
        "4.spark (apache spark) <br>\n",
        "5.vegas (scala) <br>\n",
        "6.ggplot2 (R)"
      ]
    },
    {
      "attachments": {},
      "cell_type": "markdown",
      "metadata": {},
      "source": [
        "<h5>Exercise 6 - Create a markdown cell with a table of Data Science tools.</h5>\n",
        "\n",
        "Data science tools built with \n",
        "|Programming Laguage|Tools|\n",
        "| --- | --- |\n",
        "| Java | Weka, Java-ML, Apache MLlib, and Deeplearning4 |\n",
        "|Scala |Apache Spark, that includes Shark, MLlib, GraphX, and Spark Streaming|\n",
        "| C++  |TensorFlow, MongoDB and Caffe|   \n",
        "|JavaScript |TensorFlow.js and R-js| \n",
        "Julia | JuliaDB|"
      ]
    },
    {
      "attachments": {},
      "cell_type": "markdown",
      "metadata": {},
      "source": [
        "<h5>Exercise 7 - Create a markdown cell introducing arithmetic expression examples</h5>\n",
        " arithmetic operations: \n",
        " <br><strong>$5=2+3$</strong></br>\n",
        "  <strong>$E = mc^2 $</strong><br>\n",
        " Volume of a sphere:<br>\n",
        "import math <br> \n",
        "<strong>$ v = compile(\"4 / 3 * math.pi * math.pow(25, 3)\", \"<string>\", \"eval\")$ </strong><br>\n",
        "eval(v)\n",
        "\n",
        "#Result: 65449.84694978735\n",
        "\n",
        "\n",
        "\n",
        "\n",
        "\n"
      ]
    },
    {
      "attachments": {},
      "cell_type": "markdown",
      "metadata": {},
      "source": [
        "<h5>Exercise 8 - Create a code cell to multiply and add numbers.</h5>\n",
        "\n",
        "This a simple arithmetic expression to mutiply then add integers based o priority "
      ]
    },
    {
      "cell_type": "code",
      "execution_count": null,
      "metadata": {
        "trusted": true,
        "vscode": {
          "languageId": "python"
        }
      },
      "outputs": [],
      "source": [
        "(2*6)+4\n",
        "#result=16"
      ]
    },
    {
      "attachments": {},
      "cell_type": "markdown",
      "metadata": {},
      "source": [
        "<h5>Exercise 9 - Create a code cell to convert minutes to hours. </h5>\n"
      ]
    },
    {
      "cell_type": "code",
      "execution_count": null,
      "metadata": {
        "trusted": true,
        "vscode": {
          "languageId": "python"
        }
      },
      "outputs": [],
      "source": [
        "min=int(input(\"Enter time in minutes\"))\n",
        "h=min//60.\n",
        "print (h)"
      ]
    },
    {
      "attachments": {},
      "cell_type": "markdown",
      "metadata": {},
      "source": [
        "<h5>Exercise 10 -Insert a markdown cell to list Objectives.</h5>\n",
        "<strong>Objectives:</strong>\n",
        "    <ul>\n",
        "        <li>List popular languages that Data Scientists use.</li>\n",
        "        <li>List commonly used libraries used by Data Scientists.</li>\n",
        "        <li>different Data Science tools.</li>\n",
        "    </ul>\n",
        "    "
      ]
    },
    {
      "attachments": {},
      "cell_type": "markdown",
      "metadata": {},
      "source": [
        "<h5>Exercise 11 - Create a markdown cell to indicate the Author’s name.</h5>\n",
        "<h6><strong>Author,</strong></h6> \n",
        "<strong>$Alaa Saeed $</strong>"
      ]
    }
  ],
  "metadata": {
    "kernelspec": {
      "display_name": "Python (Pyodide)",
      "language": "python",
      "name": "python"
    },
    "language_info": {
      "name": ""
    }
  },
  "nbformat": 4,
  "nbformat_minor": 4
}
